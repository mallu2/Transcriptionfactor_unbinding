{
 "cells": [
  {
   "cell_type": "code",
   "execution_count": 1,
   "metadata": {},
   "outputs": [],
   "source": [
    "import pandas as pd\n",
    "import numpy as np\n",
    "import matplotlib.pyplot as plt"
   ]
  },
  {
   "cell_type": "markdown",
   "metadata": {},
   "source": [
    "Renumber the plumed restraints for a different topology"
   ]
  },
  {
   "cell_type": "code",
   "execution_count": 2,
   "metadata": {},
   "outputs": [],
   "source": [
    "plumed_input = \\\n",
    "'/home/x_mallu/mln_lf/Transcriptionfactor_unbinding/PLUMED_input/PLUMED_files/OSymL/specific/plumed_print.dat'"
   ]
  },
  {
   "cell_type": "code",
   "execution_count": 3,
   "metadata": {},
   "outputs": [
    {
     "data": {
      "text/plain": [
       "3"
      ]
     },
     "execution_count": 3,
     "metadata": {},
     "output_type": "execute_result"
    }
   ],
   "source": [
    "f2 = open(\"test.txt\", \"w\")\n",
    "f2.write(\"tt\\n\")"
   ]
  },
  {
   "cell_type": "code",
   "execution_count": 4,
   "metadata": {},
   "outputs": [],
   "source": [
    "ft = open(\"1osl_C52V_GMX.pdb\", \"r\")\n",
    "tts = ft.readlines()"
   ]
  },
  {
   "cell_type": "code",
   "execution_count": 5,
   "metadata": {},
   "outputs": [],
   "source": [
    "teststring = tts[300]"
   ]
  },
  {
   "cell_type": "code",
   "execution_count": 6,
   "metadata": {},
   "outputs": [
    {
     "data": {
      "text/plain": [
       "'ATOM    299  N9   DA C  10       2.529   1.029   4.470  1.00  0.00           N\\n'"
      ]
     },
     "execution_count": 6,
     "metadata": {},
     "output_type": "execute_result"
    }
   ],
   "source": [
    "teststring"
   ]
  },
  {
   "cell_type": "code",
   "execution_count": 7,
   "metadata": {},
   "outputs": [
    {
     "data": {
      "text/plain": [
       "('ATOM  ',\n",
       " '  299',\n",
       " '  N9   DA C',\n",
       " '  10',\n",
       " '       2.529   1.029   4.470  1.00  0.00           N\\n')"
      ]
     },
     "execution_count": 7,
     "metadata": {},
     "output_type": "execute_result"
    }
   ],
   "source": [
    "teststring[0:6], teststring[6:11], teststring[11:22],  teststring[22:26], teststring[26:]"
   ]
  },
  {
   "cell_type": "code",
   "execution_count": 8,
   "metadata": {},
   "outputs": [
    {
     "data": {
      "text/plain": [
       "'ATOM  3375  N9   DA C3086       2.529   1.029   4.470  1.00  0.00           N\\n'"
      ]
     },
     "execution_count": 8,
     "metadata": {},
     "output_type": "execute_result"
    }
   ],
   "source": [
    "teststring[0:6]+ '{:4}'.format(int(teststring[6:11]) + 3076) + teststring[11:22]+\\\n",
    "'{:4}'.format(int(teststring[22:26])  + 3076) + teststring[26:]"
   ]
  },
  {
   "cell_type": "code",
   "execution_count": 9,
   "metadata": {},
   "outputs": [
    {
     "data": {
      "text/plain": [
       "6451"
      ]
     },
     "execution_count": 9,
     "metadata": {},
     "output_type": "execute_result"
    }
   ],
   "source": [
    "3375+ 3076"
   ]
  },
  {
   "cell_type": "code",
   "execution_count": 10,
   "metadata": {},
   "outputs": [
    {
     "data": {
      "text/plain": [
       "True"
      ]
     },
     "execution_count": 10,
     "metadata": {},
     "output_type": "execute_result"
    }
   ],
   "source": [
    "int(teststring[6:11]) + 3076  == 3375"
   ]
  },
  {
   "cell_type": "code",
   "execution_count": 11,
   "metadata": {},
   "outputs": [],
   "source": [
    "string_list=teststring[0:6]"
   ]
  },
  {
   "cell_type": "code",
   "execution_count": 12,
   "metadata": {},
   "outputs": [],
   "source": [
    "def edit_pdb_file_1osl():\n",
    "    \"\"\"This should add in termini and Header for each model and renumber residues.\n",
    "    \n",
    "    \n",
    "    \n",
    "    \"\"\"\n",
    "    f = open(\"1osl_C52V_GMX.pdb\", \"r\")\n",
    "    f2 = open(\"1osl_C52V_GMX_new_numbering.pdb\", \"w\")\n",
    "    f_strings = f.readlines()\n",
    "    i = 0 # \n",
    "    j = 2 # model numer\n",
    "    for string in f_strings:\n",
    "        if \"ATOM\" in string:\n",
    "            atom_id = int(string[6:11]) - i*3076\n",
    "            residue_id = int(string[22:26])\n",
    "            if i*3076 < int(string[6:11]) <= 572 + i*3076:\n",
    "                f2.write(string[0:5]+ '{:6d}'.format(atom_id) + string[11:22]+\\\n",
    "        '{:4d}'.format(residue_id) + string[26:])  \n",
    "                \n",
    "            if 572 + i*3076 < int(string[6:11]) <= 1144 + i*3076 :\n",
    "\n",
    "                residue_id = int(string[22:26])+18\n",
    "                f2.write(string[0:5]+ '{:6d}'.format(atom_id) + string[11:22]+\\\n",
    "        '{:4d}'.format(residue_id) + string[26:]) \n",
    "                \n",
    "            if 1144 + i*3076 < int(string[6:11]) <= 2110 + i*3076:\n",
    "  \n",
    "                residue_id = int(string[22:26])+18+18\n",
    "                f2.write(string[0:5]+ '{:6d}'.format(atom_id) + string[11:22]+\\\n",
    "        '{:4d}'.format(residue_id) + string[26:]) \n",
    "                \n",
    "                \n",
    "            if 2110 + i*3076 < int(string[6:11]) <= 3076 + i*3076 :\n",
    " \n",
    "                residue_id = int(string[22:26])+18+18+62\n",
    "                f2.write(string[0:5]+ '{:6d}'.format(atom_id) + string[11:22]+\\\n",
    "        '{:4d}'.format(residue_id) + string[26:]) \n",
    "\n",
    "            if int(string[6:11]) == 3076 + i*3076:\n",
    "                f2.write(\"TER\\n\")\n",
    "                f2.write(\"ENDMDL\\n\")\n",
    "                f2.write(\"MODEL {}\\n\".format(j))\n",
    "                i = i+1\n",
    "                j = j+1 \n",
    "                print(j) \n",
    "            \n",
    "        else:\n",
    "            f2.write(string)        "
   ]
  },
  {
   "cell_type": "code",
   "execution_count": 13,
   "metadata": {},
   "outputs": [
    {
     "name": "stdout",
     "output_type": "stream",
     "text": [
      "3\n",
      "4\n",
      "5\n",
      "6\n",
      "7\n",
      "8\n",
      "9\n",
      "10\n",
      "11\n",
      "12\n",
      "13\n",
      "14\n",
      "15\n",
      "16\n",
      "17\n",
      "18\n",
      "19\n",
      "20\n",
      "21\n",
      "22\n"
     ]
    }
   ],
   "source": [
    "edit_pdb_file_1osl()"
   ]
  },
  {
   "cell_type": "code",
   "execution_count": 14,
   "metadata": {},
   "outputs": [],
   "source": [
    "def protein_lines_to_edit(plumed_input):   \n",
    "    f = open(plumed_input, \"r\")\n",
    "    f_strings = f.readlines()\n",
    "    #First find strings with \"=\" and digits\n",
    "    to_edit = []\n",
    "    for string in f_strings:\n",
    "        if( \"=\" in string) and (string.split(\"=\")[1][0][0].isdigit()==True) and \\\n",
    "        (string.split(\"=\")[0][-2]==\"M\") and ((string.split(\"=\")[1][1][0].isdigit()==True) \\\n",
    "                                             or (string.split(\"=\")[1][2][0].isdigit()==True)):\n",
    "            # get the atom IDs\n",
    "            IDs = [x.split(\",\") for x in string.split(\"=\")][1]\n",
    "            # get rid of the end in the \n",
    "            IDs[-1] = IDs[-1].replace('\\n','')  \n",
    "            print(string)\n",
    "            #to_edit.append(IDs)\n",
    "            \n",
    "    #return(to_edit)"
   ]
  },
  {
   "cell_type": "code",
   "execution_count": 15,
   "metadata": {},
   "outputs": [
    {
     "name": "stdout",
     "output_type": "stream",
     "text": [
      "Protein_COM: COM ATOMS=1-1648,5086-6733\n",
      "\n",
      "DNA_center: COM ATOMS=10520-10522,10550-10552,11281-11283,11311-11313\n",
      "\n",
      "hingeA: COM ATOMS=760,762,782-784,786,799-800,802,808-810,812,825-827,829,842-844,846,861-863,865,878-879\n",
      "\n",
      "hingeB: COM ATOMS=5845,5847,5867-5869,5871,5883-5885,5887,5893-5895,5897,5910-5912,5914,5927-5929,5931,5946-5948,5950,5956-5957\n",
      "\n",
      "p1_l: COM ATOMS=10261-10291,11562-11593\n",
      "\n",
      "p1_r: COM ATOMS=10801-10832,11022-11053\n",
      "\n",
      "dist1: DISTANCE ATOMS=82,10596\n",
      "\n",
      "dist2: DISTANCE ATOMS=101,10601\n",
      "\n",
      "dist3: DISTANCE ATOMS=240,11198\n",
      "\n",
      "dist4: DISTANCE ATOMS=260,10663\n",
      "\n",
      "dist5: DISTANCE ATOMS=302,10626\n",
      "\n",
      "dist6: DISTANCE ATOMS=325,11136\n",
      "\n",
      "dist7: DISTANCE ATOMS=418,11069\n",
      "\n",
      "dist8: DISTANCE ATOMS=5167,11357\n",
      "\n",
      "dist9: DISTANCE ATOMS=5186,11362 \n",
      "\n",
      "dist10: DISTANCE ATOMS=5325,10440\n",
      "\n",
      "dist11: DISTANCE ATOMS=5345,11424\n",
      "\n",
      "dist12: DISTANCE ATOMS=5387,11389\n",
      "\n",
      "dist13: DISTANCE ATOMS=5410,10372\n",
      "\n",
      "dist14: DISTANCE ATOMS=5516,10340\n",
      "\n",
      "dist15: DISTANCE ATOMS=783,5875\n",
      "\n",
      "dist16: DISTANCE ATOMS=799,5875\n",
      "\n",
      "dist17: DISTANCE ATOMS=804,5938\n",
      "\n",
      "dist18: DISTANCE ATOMS=825,5875\n",
      "\n",
      "dist19: DISTANCE ATOMS=838,5879\n",
      "\n",
      "dist20: DISTANCE ATOMS=857,5942\n",
      "\n",
      "dist21: DISTANCE ATOMS=863,5942\n",
      "\n"
     ]
    }
   ],
   "source": [
    "to_edit = protein_lines_to_edit(plumed_input)"
   ]
  },
  {
   "cell_type": "code",
   "execution_count": 16,
   "metadata": {},
   "outputs": [],
   "source": [
    "def edit_numbers(plumed_input):   \n",
    "    f = open(plumed_input, \"r\")\n",
    "    f_strings = f.readlines()\n",
    "    #First find strings with \"=\" and digits\n",
    "    to_edit = []\n",
    "    for string in f_strings:\n",
    "        if( \"=\" in string) and (string.split(\"=\")[1][0][0].isdigit()==True) and \\\n",
    "        (string.split(\"=\")[0][-2]==\"M\") and ((string.split(\"=\")[1][1][0].isdigit()==True) or (string.split(\"=\")[1][2][0].isdigit()==True)):\n",
    "            # get the atom IDs\n",
    "            IDs = [x.split(\",\") for x in string.split(\"=\")][1]\n",
    "            # get rid of the end in the \n",
    "            IDs[-1] = IDs[-1].replace('\\n','')  \n",
    "            print(IDs)\n",
    "            to_edit.append(IDs)\n",
    "    return(to_edit)"
   ]
  },
  {
   "cell_type": "code",
   "execution_count": 17,
   "metadata": {},
   "outputs": [
    {
     "name": "stdout",
     "output_type": "stream",
     "text": [
      "['1-1648', '5086-6733']\n",
      "['10520-10522', '10550-10552', '11281-11283', '11311-11313']\n",
      "['760', '762', '782-784', '786', '799-800', '802', '808-810', '812', '825-827', '829', '842-844', '846', '861-863', '865', '878-879']\n",
      "['5845', '5847', '5867-5869', '5871', '5883-5885', '5887', '5893-5895', '5897', '5910-5912', '5914', '5927-5929', '5931', '5946-5948', '5950', '5956-5957']\n",
      "['10261-10291', '11562-11593']\n",
      "['10801-10832', '11022-11053']\n",
      "['82', '10596']\n",
      "['101', '10601']\n",
      "['240', '11198']\n",
      "['260', '10663']\n",
      "['302', '10626']\n",
      "['325', '11136']\n",
      "['418', '11069']\n",
      "['5167', '11357']\n",
      "['5186', '11362 ']\n",
      "['5325', '10440']\n",
      "['5345', '11424']\n",
      "['5387', '11389']\n",
      "['5410', '10372']\n",
      "['5516', '10340']\n",
      "['783', '5875']\n",
      "['799', '5875']\n",
      "['804', '5938']\n",
      "['825', '5875']\n",
      "['838', '5879']\n",
      "['857', '5942']\n",
      "['863', '5942']\n"
     ]
    }
   ],
   "source": [
    "to_edit = edit_numbers(plumed_input)"
   ]
  },
  {
   "cell_type": "code",
   "execution_count": 18,
   "metadata": {},
   "outputs": [],
   "source": [
    "def flatten(list_IDs):\n",
    "    list_IDs_flat = [x for y in list_IDs for x in y]\n",
    "    return(list_IDs_flat)"
   ]
  },
  {
   "cell_type": "code",
   "execution_count": 21,
   "metadata": {},
   "outputs": [],
   "source": [
    "def check_number_and_change(x, renumber_marker):\n",
    "\n",
    "    if renumber_marker[0] <= int(x) <= renumber_marker[1]:\n",
    "        print(\"This is in strand A.\")\n",
    "        return(str(int(x)+1161))\n",
    "    elif renumber_marker[1] < int(x) <= renumber_marker[2]:\n",
    "        \n",
    "        print(\"This is in strand B.\")\n",
    "        return(str(int(x)-2958))\n",
    "    elif renumber_marker[2] < int(x) <= renumber_marker[3]:\n",
    "        print(\"This is in the DNA\")\n",
    "        "
   ]
  },
  {
   "cell_type": "code",
   "execution_count": 22,
   "metadata": {},
   "outputs": [
    {
     "name": "stdout",
     "output_type": "stream",
     "text": [
      "1\n",
      "This is in strand A.\n",
      "1648\n",
      "This is in strand A.\n",
      "5086\n",
      "This is in strand B.\n",
      "6733\n",
      "This is in strand B.\n"
     ]
    }
   ],
   "source": [
    "new_IDs=[]\n",
    "for x in flatten([x.split(\"-\") for x in to_edit[0]]):\n",
    "    print(x)\n",
    "    new_IDs.append(check_number_and_change(x, [1,5085,10170,11692]))"
   ]
  },
  {
   "cell_type": "code",
   "execution_count": 23,
   "metadata": {},
   "outputs": [
    {
     "data": {
      "text/plain": [
       "['1162', '2809', '2128', '3775']"
      ]
     },
     "execution_count": 23,
     "metadata": {},
     "output_type": "execute_result"
    }
   ],
   "source": [
    "new_IDs"
   ]
  },
  {
   "cell_type": "code",
   "execution_count": 84,
   "metadata": {},
   "outputs": [
    {
     "name": "stdout",
     "output_type": "stream",
     "text": [
      "5516\n",
      "This is in strand B.\n",
      "10340\n",
      "This is in the DNA\n"
     ]
    }
   ],
   "source": [
    "new_IDs=[]\n",
    "for x in flatten([x.split(\"-\") for x in to_edit[19]]):\n",
    "    print(x)\n",
    "    new_IDs.append(check_number_and_change(x, [1,5085,10170,11692]))"
   ]
  },
  {
   "cell_type": "code",
   "execution_count": 85,
   "metadata": {},
   "outputs": [
    {
     "data": {
      "text/plain": [
       "['2558', None]"
      ]
     },
     "execution_count": 85,
     "metadata": {},
     "output_type": "execute_result"
    }
   ],
   "source": [
    "new_IDs"
   ]
  },
  {
   "cell_type": "code",
   "execution_count": 40,
   "metadata": {},
   "outputs": [
    {
     "data": {
      "text/plain": [
       "[1965, 2980]"
      ]
     },
     "execution_count": 40,
     "metadata": {},
     "output_type": "execute_result"
    }
   ],
   "source": [
    "[int(y) for y in new_IDs]"
   ]
  },
  {
   "cell_type": "code",
   "execution_count": null,
   "metadata": {},
   "outputs": [],
   "source": []
  }
 ],
 "metadata": {
  "kernelspec": {
   "display_name": "myownenv",
   "language": "python",
   "name": "myownenv"
  },
  "language_info": {
   "codemirror_mode": {
    "name": "ipython",
    "version": 3
   },
   "file_extension": ".py",
   "mimetype": "text/x-python",
   "name": "python",
   "nbconvert_exporter": "python",
   "pygments_lexer": "ipython3",
   "version": "3.8.5"
  }
 },
 "nbformat": 4,
 "nbformat_minor": 4
}
