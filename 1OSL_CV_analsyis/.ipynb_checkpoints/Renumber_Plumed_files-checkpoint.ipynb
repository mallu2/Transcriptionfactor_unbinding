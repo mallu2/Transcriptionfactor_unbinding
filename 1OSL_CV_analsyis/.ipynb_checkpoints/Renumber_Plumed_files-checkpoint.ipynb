{
 "cells": [
  {
   "cell_type": "code",
   "execution_count": 1,
   "metadata": {},
   "outputs": [],
   "source": [
    "import pandas as pd\n",
    "import numpy as np\n",
    "import matplotlib.pyplot as plt"
   ]
  },
  {
   "cell_type": "markdown",
   "metadata": {},
   "source": [
    "Renumber the plumed restraints for a different topology"
   ]
  },
  {
   "cell_type": "code",
   "execution_count": 2,
   "metadata": {},
   "outputs": [],
   "source": [
    "plumed_input = \\\n",
    "'/home/x_mallu/mln_lf/Transcriptionfactor_unbinding/PLUMED_input/PLUMED_files/OSymL/specific/plumed_print.dat'"
   ]
  },
  {
   "cell_type": "code",
   "execution_count": 3,
   "metadata": {},
   "outputs": [
    {
     "data": {
      "text/plain": [
       "3"
      ]
     },
     "execution_count": 3,
     "metadata": {},
     "output_type": "execute_result"
    }
   ],
   "source": [
    "f2 = open(\"test.txt\", \"w\")\n",
    "f2.write(\"tt\\n\")"
   ]
  },
  {
   "cell_type": "code",
   "execution_count": 13,
   "metadata": {},
   "outputs": [],
   "source": [
    "def edit_pdb_file_1osl():\n",
    "    \"\"\"This should add in termini and Header for each model and renumber residues.\n",
    "    \n",
    "    \n",
    "    \n",
    "    \"\"\"\n",
    "    f = open(\"1osl_C52V_GMX.pdb\", \"r\")\n",
    "    f2 = open(\"1osl_C52V_GMX_new_numbering.pdb\", \"w\")\n",
    "    f_strings = f.readlines()\n",
    "    j = 2\n",
    "    for string in f_strings:\n",
    "        while j < 21:\n",
    "            if \"ATOM    572\" in string:\n",
    "                f2.write(string)\n",
    "                f2.write(\"TER\\n\")\n",
    "            if \"ATOM   1144\" in string:\n",
    "                f2.write(string)\n",
    "                f2.write(\"TER\\n\")\n",
    "            if \"ATOM   2110\" in string:\n",
    "                f2.write(string)\n",
    "                f2.write(\"TER\\n\")\n",
    "            if \"ATOM   3076\" in string:\n",
    "                f2.write(string)\n",
    "                f2.write(\"TER\\n\")\n",
    "                f2.write(\"ENDMDL\\n\")\n",
    "                f2.write(\"MODEL {}\\n\".format(j))\n",
    "                print(j)\n",
    "                j = j+1  \n",
    "            else:\n",
    "                f2.write(string)"
   ]
  },
  {
   "cell_type": "code",
   "execution_count": null,
   "metadata": {},
   "outputs": [],
   "source": [
    "edit_pdb_file_1osl()"
   ]
  },
  {
   "cell_type": "code",
   "execution_count": 3,
   "metadata": {},
   "outputs": [],
   "source": [
    "def protein_lines_to_edit(plumed_input):   \n",
    "    f = open(plumed_input, \"r\")\n",
    "    f_strings = f.readlines()\n",
    "    #First find strings with \"=\" and digits\n",
    "    to_edit = []\n",
    "    for string in f_strings:\n",
    "        if( \"=\" in string) and (string.split(\"=\")[1][0][0].isdigit()==True) and \\\n",
    "        (string.split(\"=\")[0][-2]==\"M\") and ((string.split(\"=\")[1][1][0].isdigit()==True) or (string.split(\"=\")[1][2][0].isdigit()==True)):\n",
    "            # get the atom IDs\n",
    "            IDs = [x.split(\",\") for x in string.split(\"=\")][1]\n",
    "            # get rid of the end in the \n",
    "            IDs[-1] = IDs[-1].replace('\\n','')  \n",
    "            print(string)\n",
    "            #to_edit.append(IDs)\n",
    "            \n",
    "    #return(to_edit)"
   ]
  },
  {
   "cell_type": "code",
   "execution_count": null,
   "metadata": {},
   "outputs": [],
   "source": []
  },
  {
   "cell_type": "code",
   "execution_count": 4,
   "metadata": {},
   "outputs": [
    {
     "name": "stdout",
     "output_type": "stream",
     "text": [
      "Protein_COM: COM ATOMS=1-1648,5086-6733\n",
      "\n",
      "DNA_center: COM ATOMS=10520-10522,10550-10552,11281-11283,11311-11313\n",
      "\n",
      "hingeA: COM ATOMS=760,762,782-784,786,799-800,802,808-810,812,825-827,829,842-844,846,861-863,865,878-879\n",
      "\n",
      "hingeB: COM ATOMS=5845,5847,5867-5869,5871,5883-5885,5887,5893-5895,5897,5910-5912,5914,5927-5929,5931,5946-5948,5950,5956-5957\n",
      "\n",
      "p1_l: COM ATOMS=10261-10291,11562-11593\n",
      "\n",
      "p1_r: COM ATOMS=10801-10832,11022-11053\n",
      "\n",
      "dist1: DISTANCE ATOMS=82,10596\n",
      "\n",
      "dist2: DISTANCE ATOMS=101,10601\n",
      "\n",
      "dist3: DISTANCE ATOMS=240,11198\n",
      "\n",
      "dist4: DISTANCE ATOMS=260,10663\n",
      "\n",
      "dist5: DISTANCE ATOMS=302,10626\n",
      "\n",
      "dist6: DISTANCE ATOMS=325,11136\n",
      "\n",
      "dist7: DISTANCE ATOMS=418,11069\n",
      "\n",
      "dist8: DISTANCE ATOMS=5167,11357\n",
      "\n",
      "dist9: DISTANCE ATOMS=5186,11362 \n",
      "\n",
      "dist10: DISTANCE ATOMS=5325,10440\n",
      "\n",
      "dist11: DISTANCE ATOMS=5345,11424\n",
      "\n",
      "dist12: DISTANCE ATOMS=5387,11389\n",
      "\n",
      "dist13: DISTANCE ATOMS=5410,10372\n",
      "\n",
      "dist14: DISTANCE ATOMS=5516,10340\n",
      "\n",
      "dist15: DISTANCE ATOMS=783,5875\n",
      "\n",
      "dist16: DISTANCE ATOMS=799,5875\n",
      "\n",
      "dist17: DISTANCE ATOMS=804,5938\n",
      "\n",
      "dist18: DISTANCE ATOMS=825,5875\n",
      "\n",
      "dist19: DISTANCE ATOMS=838,5879\n",
      "\n",
      "dist20: DISTANCE ATOMS=857,5942\n",
      "\n",
      "dist21: DISTANCE ATOMS=863,5942\n",
      "\n"
     ]
    }
   ],
   "source": [
    "to_edit = protein_lines_to_edit(plumed_input)"
   ]
  }
 ],
 "metadata": {
  "kernelspec": {
   "display_name": "Python 3",
   "language": "python",
   "name": "python3"
  },
  "language_info": {
   "codemirror_mode": {
    "name": "ipython",
    "version": 3
   },
   "file_extension": ".py",
   "mimetype": "text/x-python",
   "name": "python",
   "nbconvert_exporter": "python",
   "pygments_lexer": "ipython3",
   "version": "3.8.8"
  }
 },
 "nbformat": 4,
 "nbformat_minor": 4
}
